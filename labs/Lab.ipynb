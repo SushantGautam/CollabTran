{
 "cells": [
  {
   "cell_type": "code",
   "execution_count": 1,
   "metadata": {},
   "outputs": [],
   "source": [
    "server = \"https://kr.ublcloud.me\"\n",
    "AuthURL = server +\"/rest-auth/login/\""
   ]
  },
  {
   "cell_type": "code",
   "execution_count": 43,
   "metadata": {},
   "outputs": [
    {
     "name": "stdout",
     "output_type": "stream",
     "text": [
      "LoginSuccess\n"
     ]
    }
   ],
   "source": [
    "token=None\n",
    "import requests\n",
    "import json\n",
    "from IPython.display import clear_output\n",
    "\n",
    "url = AuthURL\n",
    "payload ={\n",
    "    \"username\": \"nsdevil\",\n",
    "    \"password\": \"Nsdev2021MAy!\"\n",
    "}\n",
    "r = requests.post(AuthURL, data=payload, headers={'Accept': 'application/json'})\n",
    "if r.status_code==200: token = json.loads(r.content)['key']; print('LoginSuccess'); \n",
    "else: print(r.content) "
   ]
  },
  {
   "cell_type": "code",
   "execution_count": 44,
   "metadata": {},
   "outputs": [],
   "source": [
    "courses =json.loads(requests.get(\"https://kr.ublcloud.me/api/v1/courseinfo/?format=json\", data=payload, headers={\"Authorization\": \"Token \"+token}).content)"
   ]
  },
  {
   "cell_type": "code",
   "execution_count": 45,
   "metadata": {},
   "outputs": [],
   "source": [
    "len(courses)\n",
    "# tinyDB to cache\n",
    "from tinydb import TinyDB, Query\n",
    "from bs4 import BeautifulSoup\n",
    "\n",
    "courses_cache = TinyDB('courses_cache.json')"
   ]
  },
  {
   "cell_type": "code",
   "execution_count": 83,
   "metadata": {},
   "outputs": [
    {
     "name": "stdout",
     "output_type": "stream",
     "text": [
      "Content Not Found\n"
     ]
    }
   ],
   "source": [
    "k=None\n",
    "for course in courses[10:15]:\n",
    "#     courseinfo = json.loads(requests.get(\"https://kr.ublcloud.me/api/v1/courseinfo/\"+str(courseID),\n",
    "#                      data=payload, headers={\"Authorization\": \"Token \"+token}).content)\n",
    "\n",
    "    courseID = course['pk']\n",
    "    '''\n",
    "    collect chapter attributes and description\n",
    "    '''\n",
    "    totalDataFromCourse = []\n",
    "    chapters = json.loads(requests.get(\"https://kr.ublcloud.me/api/v1/chapterinfo/?Course_Code=\"+str(courseID),\n",
    "                     data=payload, headers={\"Authorization\": \"Token \"+token}).content)\n",
    "    for chapterId in [e['pk'] for e in chapters]:\n",
    "        r2= requests.get(\"https://kr.ublcloud.me/api/v1/chaptercontent/\"+ str(chapterId),\n",
    "                         data=payload, headers={\"Authorization\": \"Token \"+ token})\n",
    "#         clear_output(wait=False)\n",
    "#         print(json.loads(r2.content))\n",
    "        k= json.loads(r2.content)\n",
    "        '''\n",
    "        1. calculate chapterhash to see if it has changed from previous \n",
    "           if different hash:\n",
    "                2. process each of the chapter here\n",
    "                3. Update texts to datebase\n",
    "                4. Update hash\n",
    "        '''\n",
    "        try:\n",
    "            for page in k['data']['pages'].values():\n",
    "            #     clear_output(wait=False)\n",
    "                try:\n",
    "                    for i in page[0]['textdiv']:\n",
    "                        soup = BeautifulSoup(\" \"+i[\"content\"], \"lxml\")\n",
    "#                         soup = BeautifulSoup(k, \"lxml\")\n",
    "                        text = soup.get_text() #remove HTML tags\n",
    "#                         print(text)\n",
    "#                         print(\" \"+i[\"content\"]+\" \")\n",
    "                        totalDataFromCourse.append(text+\" \")\n",
    "                except:\n",
    "                    print(\"TextDiv Not Found\")\n",
    "        except:\n",
    "            print(\"Content Not Found\")\n",
    "        courses_cache.upsert({'courseID': courseID, 'contents': totalDataFromCourse}, Query().courseID == courseID)\n",
    "#         courses_cache.upsert({'name': 'John', 'logged-in': True}, User.name == 'John')"
   ]
  },
  {
   "cell_type": "code",
   "execution_count": 84,
   "metadata": {},
   "outputs": [
    {
     "data": {
      "text/plain": [
       "[{'courseID': 1363, 'contents': []}]"
      ]
     },
     "execution_count": 84,
     "metadata": {},
     "output_type": "execute_result"
    }
   ],
   "source": [
    "courses_cache.search(Query().courseID == 1363)"
   ]
  },
  {
   "cell_type": "code",
   "execution_count": 87,
   "metadata": {},
   "outputs": [
    {
     "data": {
      "text/plain": [
       "[{'courseID': 1363, 'contents': []},\n",
       " {'courseID': 1362, 'contents': ['What is Dialect ']},\n",
       " {'courseID': 1361,\n",
       "  'contents': ['Day 5Assessment in Integrated Curriculum ',\n",
       "   'How does acid rain affect the plant growth? ',\n",
       "   'Project Based Learning_ Why, How, and Examples ',\n",
       "   'How does temperature affect the density of water? ']},\n",
       " {'courseID': 1360, 'contents': []},\n",
       " {'courseID': 1359, 'contents': ['TPACK illustration ']}]"
      ]
     },
     "execution_count": 87,
     "metadata": {},
     "output_type": "execute_result"
    }
   ],
   "source": [
    "courses_cache.all()\n",
    "# courses_cache.truncate()"
   ]
  },
  {
   "cell_type": "code",
   "execution_count": 86,
   "metadata": {},
   "outputs": [
    {
     "data": {
      "text/plain": [
       "{'data': {'numberofpages': 3,\n",
       "  'chaptertitle': '',\n",
       "  'pages': {'1': [{'textdiv': [],\n",
       "     'pic': [],\n",
       "     'stackedpic': [],\n",
       "     'btn-div': [],\n",
       "     'pdf': [],\n",
       "     'ppt': [],\n",
       "     'video': [{'tops': '0%',\n",
       "       'left': '0%',\n",
       "       'width': '98.304%',\n",
       "       'height': '99.352%',\n",
       "       'online_link': 'https://player.vimeo.com/video/534314954?title=0&byline=0&portrait=0&speed=0&badge=0&autopause=0&player_id=0&app_id=156032'}],\n",
       "     'audio': [],\n",
       "     '_3d': [],\n",
       "     'quizdiv': [],\n",
       "     'surveydiv': [],\n",
       "     'backgroundcolor': 'rgb(255, 255, 255)',\n",
       "     'thumbnail': 'data:image/png;base64,iVBORw0KGgoAAAANSUhEUgAAAHgAAAA8CAYAAACtrX6oAAAA5klEQVR4Xu3VAQkAMBDDwM2/6A4m48g7SEL5u22nYw3cArNtP1iB7b4FxvsWuMC6AZyvH1xg3ACO14ILjBvA8VpwgXEDOF4LLjBuAMdrwQXGDeB4LbjAuAEcrwUXGDeA47XgAuMGcLwWXGDcAI7XgguMG8DxWnCBcQM4XgsuMG4Ax2vBBcYN4HgtuMC4ARyvBRcYN4DjteAC4wZwvBZcYNwAjteCC4wbwPFacIFxAzheCy4wbgDHa8EFxg3geC24wLgBHK8FFxg3gOO14ALjBnC8Flxg3ACO14ILjBvA8VpwgXEDON4Di3DvTcpHZ5kAAAAASUVORK5CYII='}],\n",
       "   '2': [{'textdiv': [],\n",
       "     'pic': [],\n",
       "     'stackedpic': [],\n",
       "     'btn-div': [],\n",
       "     'pdf': [{'tops': '0%',\n",
       "       'left': '0%',\n",
       "       'width': '97.5231%',\n",
       "       'height': '98.2795%',\n",
       "       'link': '/media/chapterBuilder/1359/9171/df93cd6e4a854c1f969358d36d92e911______6827.pdf'}],\n",
       "     'ppt': [],\n",
       "     'video': [],\n",
       "     'audio': [],\n",
       "     '_3d': [],\n",
       "     'quizdiv': [],\n",
       "     'surveydiv': [],\n",
       "     'backgroundcolor': 'rgb(255, 255, 255)',\n",
       "     'thumbnail': 'data:image/png;base64,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'}],\n",
       "   '3': [{'textdiv': [],\n",
       "     'pic': [],\n",
       "     'stackedpic': [],\n",
       "     'btn-div': [],\n",
       "     'pdf': [{'tops': '0%',\n",
       "       'left': '0%',\n",
       "       'width': '97.5231%',\n",
       "       'height': '98.2795%',\n",
       "       'link': '/media/chapterBuilder/1359/9171/b0ab6c4ee93e48129c2e50a70d7fb53b___23___6827.pdf'}],\n",
       "     'ppt': [],\n",
       "     'video': [],\n",
       "     'audio': [],\n",
       "     '_3d': [],\n",
       "     'quizdiv': [],\n",
       "     'surveydiv': [],\n",
       "     'backgroundcolor': 'rgb(255, 255, 255)',\n",
       "     'thumbnail': 'data:image/png;base64,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'}]},\n",
       "  'canvasheight': 63.49852440408627,\n",
       "  'canvaswidth': 60.025625000000005}}"
      ]
     },
     "execution_count": 86,
     "metadata": {},
     "output_type": "execute_result"
    }
   ],
   "source": [
    "json.loads(r2.content)"
   ]
  },
  {
   "cell_type": "code",
   "execution_count": null,
   "metadata": {},
   "outputs": [],
   "source": []
  },
  {
   "cell_type": "code",
   "execution_count": null,
   "metadata": {},
   "outputs": [],
   "source": []
  }
 ],
 "metadata": {
  "kernelspec": {
   "display_name": "Python 3",
   "language": "python",
   "name": "python3"
  },
  "language_info": {
   "codemirror_mode": {
    "name": "ipython",
    "version": 3
   },
   "file_extension": ".py",
   "mimetype": "text/x-python",
   "name": "python",
   "nbconvert_exporter": "python",
   "pygments_lexer": "ipython3",
   "version": "3.6.8"
  }
 },
 "nbformat": 4,
 "nbformat_minor": 4
}
